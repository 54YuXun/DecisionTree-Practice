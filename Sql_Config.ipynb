{
 "cells": [
  {
   "cell_type": "code",
   "execution_count": 1,
   "metadata": {},
   "outputs": [
    {
     "data": {
      "text/plain": [
       "(<pyodbc.Connection at 0x29ae82e94e0>, 'Success')"
      ]
     },
     "execution_count": 1,
     "metadata": {},
     "output_type": "execute_result"
    }
   ],
   "source": [
    "import pyodbc\n",
    "def connect():   \n",
    "    conStr = ('DRIVER={SQL Server Native Client 11.0};SERVER=;'\n",
    "               + 'DATABASE=;UID=;PWD=')\n",
    "    try:        \n",
    "        con = pyodbc.connect(conStr)\n",
    "        massage = 'Success'\n",
    "    except pyodbc.Error as ex:\n",
    "        massage = 'Failed'\n",
    "    return con,massage \n",
    "connect()"
   ]
  },
  {
   "cell_type": "code",
   "execution_count": null,
   "metadata": {},
   "outputs": [],
   "source": []
  }
 ],
 "metadata": {
  "kernelspec": {
   "display_name": "Python 3",
   "language": "python",
   "name": "python3"
  },
  "language_info": {
   "codemirror_mode": {
    "name": "ipython",
    "version": 3
   },
   "file_extension": ".py",
   "mimetype": "text/x-python",
   "name": "python",
   "nbconvert_exporter": "python",
   "pygments_lexer": "ipython3",
   "version": "3.6.3"
  }
 },
 "nbformat": 4,
 "nbformat_minor": 2
}
